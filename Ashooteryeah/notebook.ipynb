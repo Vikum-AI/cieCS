{
 "cells": [
  {
   "cell_type": "markdown",
   "metadata": {},
   "source": [
    "# Amantha's Notebook"
   ]
  },
  {
   "cell_type": "markdown",
   "metadata": {},
   "source": [
    "#### Simple hello world program"
   ]
  },
  {
   "cell_type": "code",
   "execution_count": 1,
   "metadata": {},
   "outputs": [
    {
     "name": "stdout",
     "output_type": "stream",
     "text": [
      "Hello world\n"
     ]
    }
   ],
   "source": [
    "print(\"Hello world\")"
   ]
  },
  {
   "cell_type": "markdown",
   "metadata": {},
   "source": [
    "#### OOP program to create a create a profile a change the profile"
   ]
  },
  {
   "cell_type": "code",
   "execution_count": 2,
   "metadata": {},
   "outputs": [
    {
     "name": "stdout",
     "output_type": "stream",
     "text": [
      "steve 51 apple\n",
      "mark 45 meta\n"
     ]
    }
   ],
   "source": [
    "#oop pragram that has methods :reverse an array,find an element, bubble sort\n",
    "\n",
    "class profile:\n",
    "\n",
    "    def __init__(self, name, age, sub):\n",
    "        self.name = name\n",
    "        self.age = age\n",
    "        self.sub = sub\n",
    "    def change(self, name, age, sub):\n",
    "        self.name = name\n",
    "        self.age = age\n",
    "        self.sub = sub\n",
    "\n",
    "\n",
    "d = profile(\"steve\",51,\"apple\")\n",
    "print(d.name,d.age,d.sub)\n",
    "\n",
    "d.change(\"mark\",45,\"meta\")\n",
    "print(d.name,d.age,d.sub)"
   ]
  },
  {
   "cell_type": "markdown",
   "metadata": {},
   "source": [
    "#### basic banking operation"
   ]
  },
  {
   "cell_type": "code",
   "execution_count": 3,
   "metadata": {},
   "outputs": [
    {
     "name": "stdout",
     "output_type": "stream",
     "text": [
      "\n",
      "You've successfully withdrawn 5000 from your account\n",
      "Remaining balance is  25000\n",
      "\n",
      "You've successfully deposited  2000 to your account\n",
      "Remaining balance is  27000\n",
      "\n",
      "You succcessfully transferred  1000  to  Elon\n",
      "Remainin balance is  26000\n",
      "\n"
     ]
    }
   ],
   "source": [
    "class bank:\n",
    "    def __init__(self,balance):\n",
    "        self.balance = balance\n",
    "\n",
    "    def withdraw(self,withdra):\n",
    "        self.balance = self.balance - withdra\n",
    "        print(\"You've successfully withdrawn\",withdra,\"from your account\")\n",
    "        print(\"Remaining balance is \",self.balance)\n",
    "\n",
    "    def deposit(self,dep):\n",
    "        self.balance = self.balance + dep\n",
    "        print(\"You've successfully deposited \",dep,\"to your account\")\n",
    "        print(\"Remaining balance is \",self.balance)\n",
    "\n",
    "    def transferr(self,transf,name):\n",
    "        self.balance = self.balance - transf\n",
    "        print(\"You succcessfully transferred \",transf,\" to \",name)\n",
    "        print(\"Remainin balance is \",self.balance)\n",
    "\n",
    "b = bank(30000)\n",
    "print(\"\")\n",
    "\n",
    "b.withdraw(5000)\n",
    "print(\"\")\n",
    "\n",
    "b.deposit(2000)\n",
    "print(\"\")\n",
    "b.transferr(1000, 'Elon')\n",
    "print(\"\")"
   ]
  },
  {
   "cell_type": "code",
   "execution_count": null,
   "metadata": {},
   "outputs": [],
   "source": []
  }
 ],
 "metadata": {
  "interpreter": {
   "hash": "2c0bc689d41145322aaf1b91de57ece6d7ba7e5306190d8e70bada35e75cf3e9"
  },
  "kernelspec": {
   "display_name": "Python 3.10.1 64-bit",
   "language": "python",
   "name": "python3"
  },
  "language_info": {
   "codemirror_mode": {
    "name": "ipython",
    "version": 3
   },
   "file_extension": ".py",
   "mimetype": "text/x-python",
   "name": "python",
   "nbconvert_exporter": "python",
   "pygments_lexer": "ipython3",
   "version": "3.10.1"
  },
  "orig_nbformat": 4
 },
 "nbformat": 4,
 "nbformat_minor": 2
}
