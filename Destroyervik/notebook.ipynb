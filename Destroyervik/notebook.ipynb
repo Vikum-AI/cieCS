{
 "cells": [
  {
   "cell_type": "markdown",
   "metadata": {},
   "source": [
    "# Destroyervik's Notebook"
   ]
  },
  {
   "cell_type": "markdown",
   "metadata": {},
   "source": [
    "#### Simple Hello world Program"
   ]
  },
  {
   "cell_type": "code",
   "execution_count": 1,
   "metadata": {},
   "outputs": [
    {
     "name": "stdout",
     "output_type": "stream",
     "text": [
      "Hello world\n"
     ]
    }
   ],
   "source": [
    "print(\"Hello world\")"
   ]
  },
  {
   "cell_type": "markdown",
   "metadata": {},
   "source": [
    "#### OOP program to create a profile and change it. "
   ]
  },
  {
   "cell_type": "code",
   "execution_count": 1,
   "metadata": {},
   "outputs": [
    {
     "name": "stdout",
     "output_type": "stream",
     "text": [
      "Elon 35 physics\n",
      "Mark 37 Facebook\n"
     ]
    }
   ],
   "source": [
    "class profile:\n",
    "\n",
    "    def __init__(self, name, age, sub):\n",
    "        self.name = name\n",
    "        self.age = age\n",
    "        self.sub = sub\n",
    "\n",
    "    def change(self, name, age, sub):\n",
    "        self.name = name\n",
    "        self.age = age\n",
    "        self.sub = sub\n",
    "\n",
    "\n",
    "d = profile('Elon', 35, 'physics')\n",
    "\n",
    "print(d.name, d.age, d.sub)\n",
    "\n",
    "d.change('Mark', 37, 'Facebook')\n",
    "print(d.name, d.age, d.sub)\n"
   ]
  },
  {
   "cell_type": "markdown",
   "metadata": {},
   "source": [
    "#### OOP program to enter a vehicle get the price and change it."
   ]
  },
  {
   "cell_type": "code",
   "execution_count": 4,
   "metadata": {},
   "outputs": [
    {
     "name": "stdout",
     "output_type": "stream",
     "text": [
      "You have chosen a car\n",
      "Which costs 10000\n",
      "You have changed to a jeep\n",
      "Which costs 20000\n"
     ]
    }
   ],
   "source": [
    "# Data on model and price\n",
    "vehicles = ['car', 'minivan', 'jeep']\n",
    "price = [10000, 15000, 20000]\n",
    "\n",
    "\n",
    "class buy:\n",
    "\n",
    "    # Selecting a model and displaying price\n",
    "    def __init__(self, model):\n",
    "\n",
    "        self.model = model.lower()\n",
    "        self.n = len(vehicles)\n",
    "\n",
    "        for i in range(self.n):\n",
    "            if self.model == vehicles[i]:\n",
    "                self.price = price[i]\n",
    "                break\n",
    "\n",
    "        print(\"You have chosen a\", self.model)\n",
    "        print(\"Which costs\", self.price)\n",
    "\n",
    "    #\n",
    "    def change(self, model):\n",
    "        self.model = model.lower()\n",
    "        self.n = len(vehicles)\n",
    "\n",
    "        for i in range(self.n):\n",
    "            if self.model == vehicles[i]:\n",
    "                self.price = price[i]\n",
    "                break\n",
    "\n",
    "        print(\"You have changed to a\", self.model)\n",
    "        print(\"Which costs\", self.price)\n",
    "\n",
    "\n",
    "d = buy('car')\n",
    "d.change('jeep')\n"
   ]
  },
  {
   "cell_type": "code",
   "execution_count": null,
   "metadata": {},
   "outputs": [],
   "source": []
  }
 ],
 "metadata": {
  "interpreter": {
   "hash": "aee8b7b246df8f9039afb4144a1f6fd8d2ca17a180786b69acc140d282b71a49"
  },
  "kernelspec": {
   "display_name": "Python 3.8.5 64-bit",
   "language": "python",
   "name": "python3"
  },
  "language_info": {
   "codemirror_mode": {
    "name": "ipython",
    "version": 3
   },
   "file_extension": ".py",
   "mimetype": "text/x-python",
   "name": "python",
   "nbconvert_exporter": "python",
   "pygments_lexer": "ipython3",
   "version": "3.8.5"
  },
  "orig_nbformat": 4
 },
 "nbformat": 4,
 "nbformat_minor": 2
}
