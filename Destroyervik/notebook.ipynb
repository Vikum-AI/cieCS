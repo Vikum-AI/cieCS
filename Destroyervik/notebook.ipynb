{
 "cells": [
  {
   "cell_type": "markdown",
   "metadata": {},
   "source": [
    "# Destroyervik's Notebook"
   ]
  },
  {
   "cell_type": "markdown",
   "metadata": {},
   "source": [
    "#### Simple Hello world Program"
   ]
  },
  {
   "cell_type": "code",
   "execution_count": 1,
   "metadata": {},
   "outputs": [
    {
     "name": "stdout",
     "output_type": "stream",
     "text": [
      "Hello world\n"
     ]
    }
   ],
   "source": [
    "print(\"Hello world\")"
   ]
  },
  {
   "cell_type": "markdown",
   "metadata": {},
   "source": [
    "#### OOP program to create a profile and change it. "
   ]
  },
  {
   "cell_type": "code",
   "execution_count": 1,
   "metadata": {},
   "outputs": [
    {
     "name": "stdout",
     "output_type": "stream",
     "text": [
      "Elon 35 physics\n",
      "Mark 37 Facebook\n"
     ]
    }
   ],
   "source": [
    "class profile:\n",
    "\n",
    "    def __init__(self, name, age, sub):\n",
    "        self.name = name\n",
    "        self.age = age\n",
    "        self.sub = sub\n",
    "\n",
    "    def change(self, name, age, sub):\n",
    "        self.name = name\n",
    "        self.age = age\n",
    "        self.sub = sub\n",
    "\n",
    "\n",
    "d = profile('Elon', 35, 'physics')\n",
    "\n",
    "print(d.name, d.age, d.sub)\n",
    "\n",
    "d.change('Mark', 37, 'Facebook')\n",
    "print(d.name, d.age, d.sub)\n"
   ]
  },
  {
   "cell_type": "markdown",
   "metadata": {},
   "source": [
    "#### OOP program to enter a vehicle get the price and change it."
   ]
  },
  {
   "cell_type": "code",
   "execution_count": 4,
   "metadata": {},
   "outputs": [
    {
     "name": "stdout",
     "output_type": "stream",
     "text": [
      "You have chosen a car\n",
      "Which costs 10000\n",
      "You have changed to a jeep\n",
      "Which costs 20000\n"
     ]
    }
   ],
   "source": [
    "# Data on model and price\n",
    "vehicles = ['car', 'minivan', 'jeep']\n",
    "price = [10000, 15000, 20000]\n",
    "\n",
    "\n",
    "class buy:\n",
    "\n",
    "    # Selecting a model and displaying price\n",
    "    def __init__(self, model):\n",
    "\n",
    "        self.model = model.lower()\n",
    "        self.n = len(vehicles)\n",
    "\n",
    "        for i in range(self.n):\n",
    "            if self.model == vehicles[i]:\n",
    "                self.price = price[i]\n",
    "                break\n",
    "\n",
    "        print(\"You have chosen a\", self.model)\n",
    "        print(\"Which costs\", self.price)\n",
    "\n",
    "    #\n",
    "    def change(self, model):\n",
    "        self.model = model.lower()\n",
    "        self.n = len(vehicles)\n",
    "\n",
    "        for i in range(self.n):\n",
    "            if self.model == vehicles[i]:\n",
    "                self.price = price[i]\n",
    "                break\n",
    "\n",
    "        print(\"You have changed to a\", self.model)\n",
    "        print(\"Which costs\", self.price)\n",
    "\n",
    "\n",
    "d = buy('car')\n",
    "d.change('jeep')\n"
   ]
  },
  {
   "cell_type": "markdown",
   "metadata": {},
   "source": [
    "#### OOP program to do basic banking operations."
   ]
  },
  {
   "cell_type": "code",
   "execution_count": 1,
   "metadata": {},
   "outputs": [
    {
     "name": "stdout",
     "output_type": "stream",
     "text": [
      "\n",
      "You successfull withdrawn $ 5000 from your account\n",
      "Remaining balance is $ 25000\n",
      "\n",
      "You successfull deposited $ 2000 from your account\n",
      "Remaining balance is $ 27000\n",
      "\n",
      "You successfull transferred $ 1000 to Elon\n",
      "Remaining balance is $ 26000\n",
      "\n"
     ]
    }
   ],
   "source": [
    "# Withdraw money, deposit money, transfer\n",
    "balanceGlobal = 30000\n",
    "\n",
    "\n",
    "class bank:\n",
    "\n",
    "    def __init__(self, balance):\n",
    "        self.balance = balance\n",
    "\n",
    "    def withdraw(self, amount):\n",
    "        self.balance = self.balance - amount\n",
    "        print(\"You successfull withdrawn $\", amount, \"from your account\")\n",
    "        print(\"Remaining balance is $\", self.balance)\n",
    "\n",
    "    def deposit(self, amount):\n",
    "        self.balance = self.balance + amount\n",
    "        print(\"You successfull deposited $\", amount, \"from your account\")\n",
    "        print(\"Remaining balance is $\", self.balance)\n",
    "\n",
    "    def transfer(self, amount, name):\n",
    "        self.balance = self.balance - amount\n",
    "        print(\"You successfull transferred $\", amount, \"to\", name)\n",
    "        print(\"Remaining balance is $\", self.balance)\n",
    "\n",
    "\n",
    "d = bank(30000)\n",
    "print(\"\")\n",
    "d.withdraw(5000)\n",
    "print(\"\")\n",
    "d.deposit(2000)\n",
    "print(\"\")\n",
    "d.transfer(1000, 'Elon')\n",
    "print(\"\")\n"
   ]
  }
 ],
 "metadata": {
  "interpreter": {
   "hash": "aee8b7b246df8f9039afb4144a1f6fd8d2ca17a180786b69acc140d282b71a49"
  },
  "kernelspec": {
   "display_name": "Python 3.8.5 64-bit",
   "language": "python",
   "name": "python3"
  },
  "language_info": {
   "codemirror_mode": {
    "name": "ipython",
    "version": 3
   },
   "file_extension": ".py",
   "mimetype": "text/x-python",
   "name": "python",
   "nbconvert_exporter": "python",
   "pygments_lexer": "ipython3",
   "version": "3.8.5"
  },
  "orig_nbformat": 4
 },
 "nbformat": 4,
 "nbformat_minor": 2
}
